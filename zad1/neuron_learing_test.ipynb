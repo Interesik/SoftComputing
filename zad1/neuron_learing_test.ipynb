{
 "cells": [
  {
   "cell_type": "markdown",
   "metadata": {},
   "source": [
    "# Zadanie 1"
   ]
  },
  {
   "cell_type": "code",
   "execution_count": 1,
   "metadata": {},
   "outputs": [
    {
     "name": "stdout",
     "output_type": "stream",
     "text": [
      "[[0.55018258 0.46888501 0.32597215 0.60568789 0.5409105 ]\n",
      " [0.63486614 0.23240906 0.39280215 0.9043237  0.60027548]\n",
      " [0.11027446 0.73119781 0.72645004 0.54885699 0.88757963]\n",
      " [0.51532091 0.30579918 0.36752759 0.63778104 0.24006647]\n",
      " [0.71174785 0.4113598  0.71087499 0.06109918 0.38366619]\n",
      " [0.75103312 0.2564575  0.81766223 0.79537954 0.28221391]\n",
      " [0.82727906 0.95661572 0.08123161 0.39222386 0.80515377]\n",
      " [0.80244308 0.75148576 0.52310849 0.52527343 0.27434882]\n",
      " [0.79420424 0.80749249 0.77968194 0.86400927 0.49448147]\n",
      " [0.4297661  0.97441651 0.55207805 0.75985342 0.82533914]]\n",
      "[1 1 0 1 1 1 0 1 0 1]\n"
     ]
    }
   ],
   "source": [
    "import numpy as np\n",
    "import random\n",
    "\n",
    "K = 14000 # liczba epok\n",
    "N = 5 # liczba neruonów wejściowych\n",
    "U = 0.8 # krok treningowym\n",
    "\n",
    "# Prepare training set\n",
    "training = np.array([np.random.rand(N) for _ in range(N+5)])\n",
    "\n",
    "training_outputs = np.array([random.randint(0, 1) for _ in range(N+5)])\n",
    "\n",
    "smaller_training_outputs = training_outputs[:(N-3)]\n",
    "smaller_training_set = training[:(N-3)]\n",
    "\n",
    "equal_training_outputs = training_outputs[:N]\n",
    "equal_training_set = training[:N]\n",
    "\n",
    "print(training)\n",
    "print(training_outputs)"
   ]
  },
  {
   "cell_type": "code",
   "execution_count": 2,
   "metadata": {},
   "outputs": [],
   "source": [
    "from neuron import Neuron\n",
    "from neuron_trainer import NeuronTrainer"
   ]
  },
  {
   "cell_type": "code",
   "execution_count": 3,
   "metadata": {},
   "outputs": [
    {
     "name": "stdout",
     "output_type": "stream",
     "text": [
      "Strating traning with bigger training set\n",
      "Starting weights :\n",
      "Weights of 0 neuron : [0.7022602  0.01750665 0.79466921 0.92162914 0.90279926]\n",
      "Weights of 1 neuron : [0.41036501 0.54634851 0.1133011  0.26291431 0.10229738]\n",
      "Weights of 2 neuron : [0.35029543 0.53505635 0.51316328 0.62997295 0.84010926]\n",
      "Weights of 3 neuron : [0.09378692 0.3522956  0.81628097 0.48155047 0.33005786]\n",
      "Weights of 4 neuron : [0.97057748 0.33640186 0.21091255 0.69016781 0.7327417 ]\n",
      "Result weights :\n",
      "Weights of 0 neuron : [ 1.10044389  5.19383826  0.27373934  1.73954117 -4.72341669]\n",
      "Weights of 1 neuron : [ 1.10044389  5.19383826  0.27373934  1.73954117 -4.72341669]\n",
      "Weights of 2 neuron : [ 1.10044389  5.19383826  0.27373934  1.73954117 -4.72341669]\n",
      "Weights of 3 neuron : [ 1.10044389  5.19383826  0.27373934  1.73954117 -4.72341669]\n",
      "Weights of 4 neuron : [ 1.10044389  5.19383826  0.27373934  1.73954117 -4.72341669]\n",
      "result of 1 neuron for traning 0 : [1.62866269 0.75101212 0.88028287 2.23147244 1.40843858 2.43287648\n",
      " 2.78033059 4.54720541 4.44872991 3.10839639], true class [1 1 0 1 1 1 0 1 0 1]\n"
     ]
    }
   ],
   "source": [
    "# traning with N < M\n",
    "neurons_to_train_with_bigger_set = [Neuron(traning_step = U, amount_weights_and_neurons = N ) for _ in range(N)]  \n",
    "print(\"Strating traning with bigger training set\")\n",
    "neuron_trainer_bigger = NeuronTrainer(training_inputs = training,\n",
    "                                       training_outputs = training_outputs,\n",
    "                                         neurons = neurons_to_train_with_bigger_set,\n",
    "                                           test_set_inputs = training, test_set_outputs = training_outputs,\n",
    "                                            steps = K )\n",
    "print(\"Starting weights :\")\n",
    "neuron_trainer_bigger.show_weights()\n",
    "neuron_trainer_bigger.train_neurons()\n",
    "print(\"Result weights :\")\n",
    "neuron_trainer_bigger.show_weights()\n",
    "neuron_trainer_bigger.show_calculate_results()"
   ]
  },
  {
   "cell_type": "code",
   "execution_count": 4,
   "metadata": {},
   "outputs": [
    {
     "name": "stdout",
     "output_type": "stream",
     "text": [
      "Strating traning with equal training set\n",
      "Starting weights :\n",
      "Weights of 0 neuron : [0.25718081 0.23160417 0.12374798 0.2100194  0.43299329]\n",
      "Weights of 1 neuron : [0.9268277  0.03963894 0.59703405 0.13471647 0.06900094]\n",
      "Weights of 2 neuron : [0.30719827 0.43147593 0.11097351 0.13570207 0.27112304]\n",
      "Weights of 3 neuron : [0.63129549 0.00481451 0.72005156 0.74442693 0.73818147]\n",
      "Weights of 4 neuron : [0.23434677 0.5381695  0.76920115 0.57128691 0.6599291 ]\n",
      "Result weights :\n",
      "Weights of 0 neuron : [ 1.75545992  0.72352631 -0.45735995  0.30204395 -0.62659508]\n",
      "Weights of 1 neuron : [ 1.75545992  0.72352631 -0.45735995  0.30204395 -0.62659508]\n",
      "Weights of 2 neuron : [ 1.75545992  0.72352631 -0.45735995  0.30204395 -0.62659508]\n",
      "Weights of 3 neuron : [ 1.75545992  0.72352631 -0.45735995  0.30204395 -0.62659508]\n",
      "Weights of 4 neuron : [ 1.75545992  0.72352631 -0.45735995  0.30204395 -0.62659508]\n",
      "result of 1 neuron for traning 0 : [ 1.00000000e+00  1.00000000e+00 -4.62567283e-16  1.00000000e+00\n",
      "  1.00000000e+00], true class [1 1 0 1 1]\n"
     ]
    }
   ],
   "source": [
    "# traning with M == N\n",
    "neurons_to_train_with_equal_set = [Neuron(traning_step = U, amount_weights_and_neurons = N) for _ in range(N)]  \n",
    "print(\"Strating traning with equal training set\")\n",
    "neuron_trainer_equal = NeuronTrainer(training_inputs = equal_training_set,\n",
    "                                      training_outputs = equal_training_outputs,\n",
    "                                        neurons = neurons_to_train_with_equal_set,\n",
    "                                          test_set_inputs = equal_training_set,\n",
    "                                            test_set_outputs = equal_training_outputs,\n",
    "                                               steps = K   )\n",
    "print(\"Starting weights :\")\n",
    "neuron_trainer_equal.show_weights()\n",
    "neuron_trainer_equal.train_neurons()\n",
    "print(\"Result weights :\")\n",
    "neuron_trainer_equal.show_weights()\n",
    "neuron_trainer_equal.show_calculate_results()"
   ]
  },
  {
   "cell_type": "code",
   "execution_count": 5,
   "metadata": {},
   "outputs": [
    {
     "name": "stdout",
     "output_type": "stream",
     "text": [
      "Strating traning with smaller training set\n",
      "Starting weights :\n",
      "Weights of 0 neuron : [0.042668   0.24044789 0.39155331 0.72852958 0.18479858]\n",
      "Weights of 1 neuron : [0.82432786 0.08099875 0.74098371 0.63442987 0.18990254]\n",
      "Weights of 2 neuron : [0.47082526 0.67922145 0.38200882 0.77416749 0.02424662]\n",
      "Weights of 3 neuron : [0.63795142 0.32744639 0.56587628 0.52658763 0.81397631]\n",
      "Weights of 4 neuron : [0.44989125 0.83818744 0.62580719 0.2009764  0.86055305]\n",
      "Result weights :\n",
      "Weights of 0 neuron : [0.10632304 0.80405649 0.4017791  0.45961974 0.28680895]\n",
      "Weights of 1 neuron : [0.70692232 0.59012639 0.63854747 0.09975784 0.12163089]\n",
      "Weights of 2 neuron : [ 0.38247018  0.85732429  0.31598488  0.5082556  -0.04300429]\n",
      "Weights of 3 neuron : [0.43267451 0.5126257  0.42481907 0.06093346 0.64003502]\n",
      "Weights of 4 neuron : [0.27104984 0.54160379 0.52762757 0.10003904 0.67356591]\n",
      "result of 1 neuron for traning 0 : [1. 1.], true class [1 1]\n"
     ]
    }
   ],
   "source": [
    "# traning with N > M\n",
    "neurons_to_train_with_smaller_set = [Neuron(traning_step = U, amount_weights_and_neurons = N) for _ in range(N)]  \n",
    "print(\"Strating traning with smaller training set\")\n",
    "neuron_trainer_small = NeuronTrainer(training_inputs = smaller_training_set,\n",
    "                                      training_outputs = smaller_training_outputs,\n",
    "                                        neurons = neurons_to_train_with_smaller_set,\n",
    "                                          test_set_inputs = smaller_training_set,\n",
    "                                            test_set_outputs = smaller_training_outputs,\n",
    "                                             steps = K )\n",
    "print(\"Starting weights :\")\n",
    "neuron_trainer_small.show_weights()\n",
    "neuron_trainer_small.train_neurons()\n",
    "print(\"Result weights :\")\n",
    "neuron_trainer_small.show_weights()\n",
    "neuron_trainer_small.show_calculate_results()"
   ]
  }
 ],
 "metadata": {
  "kernelspec": {
   "display_name": "Python 3",
   "language": "python",
   "name": "python3"
  },
  "language_info": {
   "codemirror_mode": {
    "name": "ipython",
    "version": 3
   },
   "file_extension": ".py",
   "mimetype": "text/x-python",
   "name": "python",
   "nbconvert_exporter": "python",
   "pygments_lexer": "ipython3",
   "version": "3.12.6"
  }
 },
 "nbformat": 4,
 "nbformat_minor": 2
}
