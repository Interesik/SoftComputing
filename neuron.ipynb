{
 "cells": [
  {
   "cell_type": "markdown",
   "metadata": {},
   "source": [
    "# Zadanie 1"
   ]
  },
  {
   "cell_type": "code",
   "execution_count": 1,
   "metadata": {},
   "outputs": [],
   "source": [
    "import numpy as np\n",
    "\n",
    "K = 1000 # liczba epok \n",
    "N = 5 # liczba neruonów wejściowych\n",
    "U = 0.1 # krok treningowym\n",
    "\n",
    "\n"
   ]
  },
  {
   "cell_type": "code",
   "execution_count": 2,
   "metadata": {},
   "outputs": [],
   "source": [
    "from typing import Callable\n",
    "\n",
    "def liniar_function(scalar: float, input: float = 1.0) -> float:\n",
    "    return scalar * input\n",
    "\n",
    "# budowa neuronu\n",
    "\n",
    "class Neuron:\n",
    "    def __init__(self, input: np.ndarray[float] = None, weights: np.ndarray[float] = None,  activation_function: Callable = None):\n",
    "        self.weights = weights\n",
    "        if self.weights is None:\n",
    "            self.weights = np.random.rand(N)\n",
    "        self.inputs = input\n",
    "        if self.inputs is None:\n",
    "            self.inputs = np.random.rand(N)\n",
    "        self.activation_function = activation_function\n",
    "        if self.activation_function is None:\n",
    "            self.activation_function = liniar_function\n",
    "\n",
    "    def get_new_input(self, inputs: np.ndarray[float]):\n",
    "        self.inputs = inputs\n",
    "        pass\n",
    "\n",
    "\n",
    "    def calculate_output(self) -> float:\n",
    "        return self.activation_function(np.dot(self.inputs, self.weights))\n",
    "        \n",
    "    # def if_training_exceed(self, new_weights: np.ndarray[float]):\n",
    "    #     for new_w in new_weights:\n",
    "    #         if new_w < 1 or new_w > -1:\n",
    "    #             raise Exception(\"New weight exceed max or min weight value\")\n",
    "    #     pass\n",
    "\n",
    "    def train_neuron(self, desiaier_output: int):\n",
    "        new_weights = np.arange(N, dtype=float)\n",
    "        old_output = self.calculate_output()\n",
    "        for index, w in enumerate(self.weights):\n",
    "             new_weights[index] = w + U * (desiaier_output - old_output) * self.inputs[index]\n",
    "        self.weights = new_weights\n",
    "        # self.if_training_exceed(new_weights)\n",
    "        pass\n"
   ]
  },
  {
   "cell_type": "code",
   "execution_count": 3,
   "metadata": {},
   "outputs": [],
   "source": [
    "# neurons = Neuron()\n",
    "# print(neurons.weights)\n",
    "# print(neurons.inputs)\n",
    "# print(neurons.calculate_output())\n",
    "# neurons.train_neuron(0)\n",
    "# print(neurons.weights)\n",
    "# print(neurons.calculate_output())\n",
    "# neurons.get_new_input(inputs = np.random.rand(N))\n",
    "# neurons.train_neuron(0)\n",
    "# print(neurons.inputs)\n",
    "# print(neurons.weights)\n",
    "# print(neurons.calculate_output())\n",
    "# neurons.get_new_input(inputs = np.random.rand(N))\n",
    "# print(neurons.calculate_output())\n"
   ]
  },
  {
   "cell_type": "code",
   "execution_count": 4,
   "metadata": {},
   "outputs": [
    {
     "name": "stdout",
     "output_type": "stream",
     "text": [
      "[[0.66439625 0.0857982  0.15106966 0.99606077 0.2579005 ]\n",
      " [0.96263339 0.98598734 0.28551143 0.40584611 0.34917426]\n",
      " [0.33210573 0.08309996 0.09489606 0.37335958 0.71282335]\n",
      " [0.86636575 0.34716994 0.68366159 0.79338479 0.42179703]\n",
      " [0.23988198 0.36838828 0.38830914 0.4345658  0.00968345]\n",
      " [0.49054145 0.60254652 0.83324181 0.16696891 0.54063175]\n",
      " [0.53967897 0.29811076 0.06108676 0.31149877 0.76961738]]\n",
      "[1 0 1 0 1 0 1]\n"
     ]
    }
   ],
   "source": [
    "import random\n",
    "\n",
    "# Prepare training set\n",
    "training = np.array([np.random.rand(N) for _ in range(N+2)])\n",
    "\n",
    "training_outputs = np.array([random.randint(0, 1) for _ in range(N+2)])\n",
    "\n",
    "smaller_training_outputs = training_outputs[:(N-2)]\n",
    "smaller_training_set = training[:(N-2)]\n",
    "\n",
    "equal_training_outputs = training_outputs[:N]\n",
    "equal_training_set = training[:N]\n",
    "\n",
    "print(training)\n",
    "print(training_outputs)"
   ]
  },
  {
   "cell_type": "code",
   "execution_count": 5,
   "metadata": {},
   "outputs": [],
   "source": [
    "# class to learn neurons it's weights\n",
    "class NeuronTrainer:\n",
    "    def __init__(self, training_inputs: np.ndarray[float], training_outputs: np.ndarray[int], neurons: list[Neuron] = None):\n",
    "        self.neurons = neurons\n",
    "        if self.neurons is None:\n",
    "            self.neurons = [Neuron(input = training_inputs[0])]\n",
    "        self.training_inputs = training_inputs,\n",
    "        self.training_outputs = training_outputs\n",
    "        if(training_inputs.shape[0] != training_outputs.size):\n",
    "            raise Exception(\"Number of traning vectors is not same as desirable outputs\")\n",
    "\n",
    "    def train_neurons(self):\n",
    "        for _ in range(K):\n",
    "            for neuron in self.neurons:\n",
    "                self.train_neruon_with_set(neuron)\n",
    "        pass\n",
    "\n",
    "    def show_calculate_results(self):\n",
    "        for training_index, training_input in enumerate(training):\n",
    "            self.neurons[0].get_new_input(training_input)\n",
    "            print(\"result of 1 neuron for traning {} : {}, true class {}\".format(training_index, self.neurons[0].calculate_output(), training_outputs[training_index]))\n",
    "        pass\n",
    "    \n",
    "\n",
    "    def show_weights(self):\n",
    "        for index, neuron in enumerate(self.neurons):\n",
    "            print(\"Weights of {} neuron : {}\".format(index, neuron.weights))\n",
    "        pass\n",
    "\n",
    "    def train_neruon_with_set(self, neuron: Neuron):\n",
    "        for traning_index,traning_vector in enumerate(self.training_inputs[0]):\n",
    "            neuron.get_new_input(inputs = traning_vector)\n",
    "            neuron.train_neuron(self.training_outputs[traning_index])\n",
    "        pass\n",
    "    \n",
    "    def set_other_neurons(self, neurons: list[Neuron]):\n",
    "        self.neurons = neurons\n",
    "        pass\n"
   ]
  },
  {
   "cell_type": "code",
   "execution_count": 6,
   "metadata": {},
   "outputs": [
    {
     "name": "stdout",
     "output_type": "stream",
     "text": [
      "Strating traning with smaller training set\n",
      "Starting weights :\n",
      "Weights of 0 neuron : [0.91471674 0.26738756 0.67093475 0.51496488 0.62833954]\n",
      "Weights of 1 neuron : [0.12330715 0.24913362 0.78681771 0.03694352 0.04570919]\n",
      "Weights of 2 neuron : [0.07859884 0.14450006 0.07192034 0.69822704 0.75285871]\n",
      "Weights of 3 neuron : [0.30325429 0.43385165 0.84578937 0.53225635 0.30866787]\n",
      "Weights of 4 neuron : [0.4767591  0.97178992 0.19111935 0.06137412 0.95241037]\n",
      "Result weights :\n",
      "Weights of 0 neuron : [ 0.17224509 -0.92353712  0.43605748  0.6330276   1.04067194]\n",
      "Weights of 1 neuron : [-0.10454934 -0.78386901  0.68703041  0.76492507  1.05085268]\n",
      "Weights of 2 neuron : [-0.23621526 -0.52842429 -0.03620862  0.92967872  1.09240539]\n",
      "Weights of 3 neuron : [-0.24317822 -0.68118858  0.66681409  0.84864921  1.06230846]\n",
      "Weights of 4 neuron : [-0.14166713 -0.59115663 -0.05495665  0.8765159   1.08600976]\n",
      "result of 1 neuron for traning 0 : 1.0000000000000677, true class 1\n",
      "result of 1 neuron for traning 1 : 1.5931700403370996e-14, true class 0\n",
      "result of 1 neuron for traning 2 : 0.9999999999998881, true class 1\n",
      "result of 1 neuron for traning 3 : 1.0679054642538035, true class 0\n",
      "result of 1 neuron for traning 4 : 0.15559278585097666, true class 1\n",
      "result of 1 neuron for traning 5 : 0.5596768210018486, true class 0\n",
      "result of 1 neuron for traning 6 : 0.8423845689101878, true class 1\n"
     ]
    }
   ],
   "source": [
    "# traning with M < N\n",
    "neurons_to_train_with_smaller_set = [Neuron() for _ in range(N)]  \n",
    "print(\"Strating traning with smaller training set\")\n",
    "neuron_trainer_small = NeuronTrainer(training_inputs = smaller_training_set, training_outputs = smaller_training_outputs, neurons = neurons_to_train_with_smaller_set )\n",
    "print(\"Starting weights :\")\n",
    "neuron_trainer_small.show_weights()\n",
    "neuron_trainer_small.train_neurons()\n",
    "print(\"Result weights :\")\n",
    "neuron_trainer_small.show_weights()\n",
    "neuron_trainer_small.show_calculate_results()\n"
   ]
  },
  {
   "cell_type": "code",
   "execution_count": 7,
   "metadata": {},
   "outputs": [
    {
     "name": "stdout",
     "output_type": "stream",
     "text": [
      "Strating traning with equal training set\n",
      "Starting weights :\n",
      "Weights of 0 neuron : [0.1025951  0.16997609 0.91925595 0.48433482 0.19460663]\n",
      "Weights of 1 neuron : [0.36264729 0.61916183 0.21114394 0.01764543 0.34994773]\n",
      "Weights of 2 neuron : [0.08262052 0.99141109 0.01299759 0.91304433 0.68819035]\n",
      "Weights of 3 neuron : [0.81751081 0.12656456 0.83312391 0.26191387 0.84140717]\n",
      "Weights of 4 neuron : [0.20933899 0.01332017 0.87458573 0.53994333 0.06004788]\n",
      "Result weights :\n",
      "Weights of 0 neuron : [-3.88591658  2.2080165  -0.70494785  3.15163444  1.39284621]\n",
      "Weights of 1 neuron : [-3.88500458  2.20740717 -0.70486702  3.15111597  1.3926208 ]\n",
      "Weights of 2 neuron : [-3.89154723  2.21177847 -0.70544701  3.15483547  1.39423785]\n",
      "Weights of 3 neuron : [-3.8817433   2.20522824 -0.7045779   3.14926194  1.39181476]\n",
      "Weights of 4 neuron : [-3.88469581  2.20720088 -0.70483963  3.15094043  1.39254449]\n",
      "result of 1 neuron for traning 0 : 0.9995943739689463, true class 1\n",
      "result of 1 neuron for traning 1 : 0.0005171939198287401, true class 0\n",
      "result of 1 neuron for traning 2 : 0.9956003857787058, true class 1\n",
      "result of 1 neuron for traning 3 : 0.00594337664070943, true class 0\n",
      "result of 1 neuron for traning 4 : 0.9905884418592097, true class 1\n",
      "result of 1 neuron for traning 5 : 0.11607935050112772, true class 0\n",
      "result of 1 neuron for traning 6 : 0.5717119490325779, true class 1\n"
     ]
    }
   ],
   "source": [
    "# traning with M == N\n",
    "neurons_to_train_with_equal_set = [Neuron() for _ in range(N)]  \n",
    "print(\"Strating traning with equal training set\")\n",
    "neuron_trainer_equal = NeuronTrainer(training_inputs = equal_training_set, training_outputs = equal_training_outputs, neurons = neurons_to_train_with_equal_set )\n",
    "print(\"Starting weights :\")\n",
    "neuron_trainer_equal.show_weights()\n",
    "neuron_trainer_equal.train_neurons()\n",
    "print(\"Result weights :\")\n",
    "neuron_trainer_equal.show_weights()\n",
    "neuron_trainer_equal.show_calculate_results()"
   ]
  },
  {
   "cell_type": "code",
   "execution_count": 8,
   "metadata": {},
   "outputs": [
    {
     "name": "stdout",
     "output_type": "stream",
     "text": [
      "Strating traning with bigger training set\n",
      "Starting weights :\n",
      "Weights of 0 neuron : [0.62439602 0.17724165 0.66494679 0.61729654 0.17130688]\n",
      "Weights of 1 neuron : [0.22663849 0.57404901 0.97481504 0.02773133 0.85537348]\n",
      "Weights of 2 neuron : [0.39307689 0.38951633 0.17413568 0.06031125 0.23548074]\n",
      "Weights of 3 neuron : [0.2697606  0.3564954  0.04210324 0.91433673 0.09118951]\n",
      "Weights of 4 neuron : [0.41487483 0.53624086 0.4962842  0.22743453 0.4181273 ]\n",
      "Result weights :\n",
      "Weights of 0 neuron : [-3.78059978  2.18462192 -0.97091391  3.11239367  1.66222308]\n",
      "Weights of 1 neuron : [-3.78272529  2.1860741  -0.97123925  3.11368706  1.66267633]\n",
      "Weights of 2 neuron : [-3.78118819  2.18502393 -0.97100398  3.11275172  1.66234856]\n",
      "Weights of 3 neuron : [-3.78437843  2.18720355 -0.97149229  3.11469301  1.66302885]\n",
      "Weights of 4 neuron : [-3.78210233  2.18564849 -0.9711439   3.11330799  1.66254349]\n",
      "result of 1 neuron for traning 0 : 1.057766086866461, true class 1\n",
      "result of 1 neuron for traning 1 : 0.08102931336634023, true class 0\n",
      "result of 1 neuron for traning 2 : 1.1807606857163568, true class 1\n",
      "result of 1 neuron for traning 3 : -0.010277098412897145, true class 0\n",
      "result of 1 neuron for traning 4 : 0.8895125041514576, true class 1\n",
      "result of 1 neuron for traning 5 : 0.07111294032177051, true class 0\n",
      "result of 1 neuron for traning 6 : 0.8004217057129982, true class 1\n"
     ]
    }
   ],
   "source": [
    "# traning with M > N\n",
    "neurons_to_train_with_bigger_set = [Neuron() for _ in range(N)]  \n",
    "print(\"Strating traning with bigger training set\")\n",
    "neuron_trainer_bigger = NeuronTrainer(training_inputs = training, training_outputs = training_outputs, neurons = neurons_to_train_with_bigger_set )\n",
    "print(\"Starting weights :\")\n",
    "neuron_trainer_bigger.show_weights()\n",
    "neuron_trainer_bigger.train_neurons()\n",
    "print(\"Result weights :\")\n",
    "neuron_trainer_bigger.show_weights()\n",
    "neuron_trainer_bigger.show_calculate_results()"
   ]
  }
 ],
 "metadata": {
  "kernelspec": {
   "display_name": "Python 3",
   "language": "python",
   "name": "python3"
  },
  "language_info": {
   "codemirror_mode": {
    "name": "ipython",
    "version": 3
   },
   "file_extension": ".py",
   "mimetype": "text/x-python",
   "name": "python",
   "nbconvert_exporter": "python",
   "pygments_lexer": "ipython3",
   "version": "3.12.6"
  }
 },
 "nbformat": 4,
 "nbformat_minor": 2
}
