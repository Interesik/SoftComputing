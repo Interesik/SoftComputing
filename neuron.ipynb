{
 "cells": [
  {
   "cell_type": "markdown",
   "metadata": {},
   "source": [
    "# Zadanie 1"
   ]
  },
  {
   "cell_type": "code",
   "execution_count": 17,
   "metadata": {},
   "outputs": [],
   "source": [
    "import numpy as np\n",
    "\n",
    "K = 1000 # liczba epok \n",
    "N = 5 # liczba neruonów wejściowych\n",
    "U = 0.1 # krok treningowym\n",
    "\n",
    "\n"
   ]
  },
  {
   "cell_type": "code",
   "execution_count": 18,
   "metadata": {},
   "outputs": [],
   "source": [
    "from typing import Callable\n",
    "\n",
    "def liniar_function(scalar: float, input: float = 1.0) -> float:\n",
    "    return scalar * input\n",
    "\n",
    "# budowa neuronu\n",
    "\n",
    "class Neuron:\n",
    "    def __init__(self, input: np.ndarray[float] = None, weights: np.ndarray[float] = None,  activation_function: Callable = None):\n",
    "        self.weights = weights\n",
    "        if self.weights is None:\n",
    "            self.weights = np.random.rand(N)\n",
    "        self.inputs = input\n",
    "        if self.inputs is None:\n",
    "            self.inputs = np.random.rand(N)\n",
    "        self.activation_function = activation_function\n",
    "        if self.activation_function is None:\n",
    "            self.activation_function = liniar_function\n",
    "\n",
    "    def get_new_input(self, inputs: np.ndarray[float]):\n",
    "        self.inputs = inputs\n",
    "        pass\n",
    "\n",
    "\n",
    "    def calculate_output(self) -> float:\n",
    "        return self.activation_function(np.dot(self.inputs, self.weights))\n",
    "        \n",
    "    # def if_training_exceed(self, new_weights: np.ndarray[float]):\n",
    "    #     for new_w in new_weights:\n",
    "    #         if new_w < 1 or new_w > -1:\n",
    "    #             raise Exception(\"New weight exceed max or min weight value\")\n",
    "    #     pass\n",
    "\n",
    "    def train_neuron(self, desiaier_output: int):\n",
    "        new_weights = np.arange(N, dtype=float)\n",
    "        old_output = self.calculate_output()\n",
    "        for index, w in enumerate(self.weights):\n",
    "             new_weights[index] = w + U * (desiaier_output - old_output) * self.inputs[index]\n",
    "        self.weights = new_weights\n",
    "        # self.if_training_exceed(new_weights)\n",
    "        pass\n"
   ]
  },
  {
   "cell_type": "code",
   "execution_count": 19,
   "metadata": {},
   "outputs": [],
   "source": [
    "# neurons = Neuron()\n",
    "# print(neurons.weights)\n",
    "# print(neurons.inputs)\n",
    "# print(neurons.calculate_output())\n",
    "# neurons.train_neuron(0)\n",
    "# print(neurons.weights)\n",
    "# print(neurons.calculate_output())\n",
    "# neurons.get_new_input(inputs = np.random.rand(N))\n",
    "# neurons.train_neuron(0)\n",
    "# print(neurons.inputs)\n",
    "# print(neurons.weights)\n",
    "# print(neurons.calculate_output())\n",
    "# neurons.get_new_input(inputs = np.random.rand(N))\n",
    "# print(neurons.calculate_output())\n"
   ]
  },
  {
   "cell_type": "code",
   "execution_count": 20,
   "metadata": {},
   "outputs": [],
   "source": [
    "# class to learn neurons it's weights\n",
    "class NeuronTrainer:\n",
    "    def __init__(self, training_inputs: np.ndarray[float], training_outputs: np.ndarray[int], neurons: list[Neuron] = None):\n",
    "        self.neurons = neurons\n",
    "        if self.neurons is None:\n",
    "            self.neurons = [Neuron(input = training_inputs[0])]\n",
    "        self.training_inputs = training_inputs,\n",
    "        self.training_outputs = training_outputs\n",
    "        if(training_inputs.shape[0] != training_outputs.size):\n",
    "            raise Exception(\"Number of traning vectors is not same as desirable outputs\")\n",
    "\n",
    "    def train_neurons(self):\n",
    "        for _ in range(K):\n",
    "            for neuron in self.neurons:\n",
    "                self.train_neruon_with_set(neuron)\n",
    "        pass\n",
    "\n",
    "    def show_weights(self):\n",
    "        for index, neuron in enumerate(self.neurons):\n",
    "            print(\"Weights of {} neuron : {}\".format(index, neuron.weights))\n",
    "        pass\n",
    "\n",
    "    def train_neruon_with_set(self, neuron: Neuron):\n",
    "        for traning_index,traning_vector in enumerate(self.training_inputs[0]):\n",
    "            neuron.get_new_input(inputs = traning_vector)\n",
    "            neuron.train_neuron(self.training_outputs[traning_index])\n",
    "        pass\n",
    "    \n",
    "    def set_other_neurons(self, neurons: list[Neuron]):\n",
    "        self.neurons = neurons\n",
    "        pass\n"
   ]
  },
  {
   "cell_type": "code",
   "execution_count": 21,
   "metadata": {},
   "outputs": [
    {
     "name": "stdout",
     "output_type": "stream",
     "text": [
      "[[0.34058329 0.96012973 0.26294154 0.79910789 0.16370009]\n",
      " [0.19617695 0.55019121 0.19788556 0.82529198 0.97367407]\n",
      " [0.66606872 0.68726057 0.02902046 0.10570061 0.05847357]\n",
      " [0.24661418 0.35358214 0.38340702 0.25078183 0.63071756]\n",
      " [0.1254711  0.71155712 0.257613   0.00595389 0.51771085]\n",
      " [0.22093956 0.04350218 0.05264634 0.74367925 0.54119339]\n",
      " [0.54342075 0.80185067 0.27235373 0.24389926 0.42988259]]\n",
      "[1 0 1 1 0 0 1]\n"
     ]
    }
   ],
   "source": [
    "import random\n",
    "\n",
    "# Prepare training set\n",
    "training = np.array([np.random.rand(N) for _ in range(N+2)])\n",
    "\n",
    "training_outputs = np.array([random.randint(0, 1) for _ in range(N+2)])\n",
    "\n",
    "smaller_training_outputs = training_outputs[:(N-2)]\n",
    "smaller_training_set = training[:(N-2)]\n",
    "\n",
    "equal_training_outputs = training_outputs[:N]\n",
    "equal_training_set = training[:N]\n",
    "\n",
    "print(training)\n",
    "print(training_outputs)"
   ]
  },
  {
   "cell_type": "code",
   "execution_count": 22,
   "metadata": {},
   "outputs": [
    {
     "name": "stdout",
     "output_type": "stream",
     "text": [
      "Strating traning with smaller training set\n",
      "Starting weights :\n",
      "Weights of 0 neuron : [0.62686681 0.67114528 0.64304328 0.82314915 0.68169116]\n",
      "Weights of 1 neuron : [0.37492798 0.23825676 0.61684443 0.31097039 0.2862577 ]\n",
      "Weights of 2 neuron : [0.62551867 0.08407562 0.09434582 0.11752823 0.03851883]\n",
      "Weights of 3 neuron : [0.69396955 0.72614491 0.1777034  0.57282394 0.49394324]\n",
      "Weights of 4 neuron : [0.15705154 0.74717575 0.56257585 0.71721017 0.8455879 ]\n",
      "Result weights :\n",
      "Weights of 0 neuron : [ 0.82439856  0.68626458  0.50122565  0.05432602 -0.70180043]\n",
      "Weights of 1 neuron : [ 0.80000983  0.71304333  0.59523456 -0.00219391 -0.68321771]\n",
      "Weights of 2 neuron : [ 0.85503311  0.65184124  0.1919438   0.19285272 -0.74308009]\n",
      "Weights of 3 neuron : [ 0.73182874  0.78487902  0.12237306  0.09964354 -0.70028808]\n",
      "Weights of 4 neuron : [ 0.59087203  0.93855119  0.39887442 -0.13277165 -0.61792155]\n"
     ]
    }
   ],
   "source": [
    "# traning with M < N\n",
    "neurons_to_train_with_smaller_set = [Neuron() for _ in range(N)]  \n",
    "print(\"Strating traning with smaller training set\")\n",
    "neuron_trainer_small = NeuronTrainer(training_inputs = smaller_training_set, training_outputs = smaller_training_outputs, neurons = neurons_to_train_with_smaller_set )\n",
    "print(\"Starting weights :\")\n",
    "neuron_trainer_small.show_weights()\n",
    "neuron_trainer_small.train_neurons()\n",
    "print(\"Result weights :\")\n",
    "neuron_trainer_small.show_weights()\n"
   ]
  },
  {
   "cell_type": "code",
   "execution_count": 23,
   "metadata": {},
   "outputs": [
    {
     "name": "stdout",
     "output_type": "stream",
     "text": [
      "Strating traning with equal training set\n",
      "Starting weights :\n",
      "Weights of 0 neuron : [0.03413093 0.81483146 0.04963935 0.95276517 0.66495303]\n",
      "Weights of 1 neuron : [0.32546463 0.2676788  0.27401804 0.623894   0.11594391]\n",
      "Weights of 2 neuron : [0.91757882 0.41698639 0.50644848 0.84487982 0.72865512]\n",
      "Weights of 3 neuron : [0.30600188 0.79904945 0.54033697 0.96758342 0.19175343]\n",
      "Weights of 4 neuron : [0.26630169 0.15535374 0.61972572 0.02753891 0.75822767]\n",
      "Result weights :\n",
      "Weights of 0 neuron : [ 2.26854156 -0.86308374  3.30718237  0.43837211 -1.01041287]\n",
      "Weights of 1 neuron : [ 2.26934091 -0.86416707  3.31041018  0.43867301 -1.01120284]\n",
      "Weights of 2 neuron : [ 2.26964517 -0.86457923  3.31163772  0.43878747 -1.01150323]\n",
      "Weights of 3 neuron : [ 2.26944395 -0.86430689  3.31082722  0.43871186 -1.01130495]\n",
      "Weights of 4 neuron : [ 2.26955398 -0.86445592  3.31127105  0.43875324 -1.01141355]\n"
     ]
    }
   ],
   "source": [
    "# traning with M == N\n",
    "neurons_to_train_with_equal_set = [Neuron() for _ in range(N)]  \n",
    "print(\"Strating traning with equal training set\")\n",
    "neuron_trainer_equal = NeuronTrainer(training_inputs = equal_training_set, training_outputs = equal_training_outputs, neurons = neurons_to_train_with_equal_set )\n",
    "print(\"Starting weights :\")\n",
    "neuron_trainer_equal.show_weights()\n",
    "neuron_trainer_equal.train_neurons()\n",
    "print(\"Result weights :\")\n",
    "neuron_trainer_equal.show_weights()"
   ]
  },
  {
   "cell_type": "code",
   "execution_count": 24,
   "metadata": {},
   "outputs": [
    {
     "name": "stdout",
     "output_type": "stream",
     "text": [
      "Strating traning with bigger training set\n",
      "Starting weights :\n",
      "Weights of 0 neuron : [0.42105419 0.88297258 0.30799821 0.08916162 0.89164654]\n",
      "Weights of 1 neuron : [0.08560665 0.53349736 0.79448295 0.71092022 0.82565712]\n",
      "Weights of 2 neuron : [0.44932105 0.4480827  0.09463437 0.79035113 0.3677926 ]\n",
      "Weights of 3 neuron : [0.58137465 0.10899639 0.5288755  0.49523707 0.58126963]\n",
      "Weights of 4 neuron : [0.65307784 0.74224276 0.06498302 0.99251597 0.9475722 ]\n",
      "Result weights :\n",
      "Weights of 0 neuron : [ 1.8817058  -0.56116235  3.2838542   0.26027187 -1.10014703]\n",
      "Weights of 1 neuron : [ 1.88217347 -0.56198478  3.28652033  0.2605346  -1.10085083]\n",
      "Weights of 2 neuron : [ 1.88180259 -0.56133256  3.284406    0.26032625 -1.10029269]\n",
      "Weights of 3 neuron : [ 1.8821897  -0.56201331  3.28661282  0.26054371 -1.10087524]\n",
      "Weights of 4 neuron : [ 1.88164089 -0.56104819  3.28348412  0.2602354  -1.10004934]\n"
     ]
    }
   ],
   "source": [
    "# traning with M > N\n",
    "neurons_to_train_with_bigger_set = [Neuron() for _ in range(N)]  \n",
    "print(\"Strating traning with bigger training set\")\n",
    "neuron_trainer_bigger = NeuronTrainer(training_inputs = training, training_outputs = training_outputs, neurons = neurons_to_train_with_bigger_set )\n",
    "print(\"Starting weights :\")\n",
    "neuron_trainer_bigger.show_weights()\n",
    "neuron_trainer_bigger.train_neurons()\n",
    "print(\"Result weights :\")\n",
    "neuron_trainer_bigger.show_weights()"
   ]
  }
 ],
 "metadata": {
  "kernelspec": {
   "display_name": "Python 3",
   "language": "python",
   "name": "python3"
  },
  "language_info": {
   "codemirror_mode": {
    "name": "ipython",
    "version": 3
   },
   "file_extension": ".py",
   "mimetype": "text/x-python",
   "name": "python",
   "nbconvert_exporter": "python",
   "pygments_lexer": "ipython3",
   "version": "3.12.6"
  }
 },
 "nbformat": 4,
 "nbformat_minor": 2
}
