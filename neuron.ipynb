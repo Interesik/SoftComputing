{
 "cells": [
  {
   "cell_type": "markdown",
   "metadata": {},
   "source": [
    "# Zadanie 1"
   ]
  },
  {
   "cell_type": "code",
   "execution_count": 1,
   "metadata": {},
   "outputs": [],
   "source": [
    "import numpy.typing as npt\n",
    "import numpy as np\n",
    "\n",
    "K = 1000 # liczba epok \n",
    "N = 3 # liczba neruonów wejściowych\n",
    "U = 0.001 # krok treningowym\n",
    "# omega = np.array([[[0.111,0.222,0.333], 0],[[0.999,0.222,0.888], 1], [[0.555,0.444,0.333], 0], [[0.555,1,0.333], 1]])\n",
    "\n",
    "\n"
   ]
  },
  {
   "cell_type": "code",
   "execution_count": 2,
   "metadata": {},
   "outputs": [],
   "source": [
    "from typing import Callable\n",
    "\n",
    "def liniar_function(scalar: float, input: float = 1.0) -> float:\n",
    "    return scalar * input\n",
    "\n",
    "# budowa neuronu\n",
    "\n",
    "class Neuron:\n",
    "    def __init__(self, input: np.ndarray[float], weights: np.ndarray[float] = None,  activation_function: Callable = None):\n",
    "        self.weights = weights\n",
    "        if self.weights is None:\n",
    "            self.weights = np.random.rand(N)\n",
    "        self.inputs = input\n",
    "        self.activation_function = activation_function\n",
    "        if self.activation_function is None:\n",
    "            self.activation_function = liniar_function\n",
    "\n",
    "    def get_new_input(self, inputs: np.ndarray[float]):\n",
    "        self.inputs = inputs\n",
    "        pass\n",
    "\n",
    "\n",
    "    def calculate_output(self) -> float:\n",
    "        return self.activation_function(np.dot(self.inputs, self.weights))\n",
    "        \n",
    "\n",
    "    def train_neuron(self, desiaier_output: int):\n",
    "        new_weights = np.arange(N, dtype=float)\n",
    "        old_output = self.calculate_output()\n",
    "        for index, w in enumerate(self.weights):\n",
    "             new_weights[index] = w + U * (desiaier_output - old_output) * self.inputs[index]\n",
    "        self.weights = new_weights\n",
    "        pass\n"
   ]
  },
  {
   "cell_type": "code",
   "execution_count": 3,
   "metadata": {},
   "outputs": [
    {
     "name": "stdout",
     "output_type": "stream",
     "text": [
      "[0.80348093 0.06331209 0.22513809]\n",
      "[0.111 0.222 0.333]\n",
      "0.17821265171752915\n",
      "[0.80346115 0.06327252 0.22507875]\n",
      "0.17818191110438378\n",
      "[0.444 0.222 0.333]\n",
      "[0.80326324 0.06317357 0.22493032]\n",
      "0.4455752077328088\n",
      "0.17808854889894143\n"
     ]
    }
   ],
   "source": [
    "neuron = Neuron(input=np.array([0.111,0.222,0.333]))\n",
    "print(neuron.weights)\n",
    "print(neuron.inputs)\n",
    "print(neuron.calculate_output())\n",
    "neuron.train_neuron(0)\n",
    "print(neuron.weights)\n",
    "print(neuron.calculate_output())\n",
    "neuron.get_new_input(inputs=np.array([0.444,0.222,0.333]))\n",
    "neuron.train_neuron(0)\n",
    "print(neuron.inputs)\n",
    "print(neuron.weights)\n",
    "print(neuron.calculate_output())\n",
    "neuron.get_new_input(inputs=np.array([0.111,0.222,0.333]))\n",
    "print(neuron.calculate_output())\n"
   ]
  },
  {
   "cell_type": "code",
   "execution_count": 4,
   "metadata": {},
   "outputs": [],
   "source": [
    "# class to learn neuron it's weights\n",
    "class NeuronTrainer:\n",
    "    def __init__(self, training_inputs: np.ndarray[float], training_outputs: np.ndarray[int], neuron: Neuron = None):\n",
    "        self.neuron = neuron\n",
    "        if self.neuron is None:\n",
    "            self.neuron = Neuron(input = training_inputs[0])\n",
    "        self.training_inputs = training_inputs,\n",
    "        self.training_outputs = training_outputs\n",
    "        if(training_inputs.shape[0] != training_outputs.size):\n",
    "            raise Exception(\"Number of traning vectors is not same as desirable outputs\")\n",
    "    \n",
    "    def train_neruon_with_set(self):\n",
    "        for traning_index,traning_vector in enumerate(self.training_inputs[0]):\n",
    "            self.neuron.get_new_input(inputs = traning_vector)\n",
    "            self.neuron.train_neuron(self.training_outputs[traning_index])\n",
    "        pass\n"
   ]
  },
  {
   "cell_type": "code",
   "execution_count": 5,
   "metadata": {},
   "outputs": [
    {
     "name": "stdout",
     "output_type": "stream",
     "text": [
      "[0.31977265 0.73341233 0.75152571]\n",
      "[0.111 0.444 0.999]\n",
      "[0.31867713 0.73161417 0.74922744]\n"
     ]
    }
   ],
   "source": [
    "\n",
    "training = np.array([[0.111, 0.444, 0.999],\n",
    "                     [0.555, 0.777, 0.999],\n",
    "                     [0, 0, 0.777],\n",
    "                     [0.999, 1, 0.122]])\n",
    "\n",
    "neuronToTrain = Neuron( input = np.array([0.111, 0.444, 0.999]))\n",
    "print(neuronToTrain.weights)\n",
    "print(neuronToTrain.inputs)\n",
    "neuronTrainer = NeuronTrainer(training_inputs = training, training_outputs = np.array([0,0,1,1]), neuron = neuronToTrain )\n",
    "neuronTrainer.train_neruon_with_set()\n",
    "print(neuronToTrain.weights)"
   ]
  }
 ],
 "metadata": {
  "kernelspec": {
   "display_name": "Python 3",
   "language": "python",
   "name": "python3"
  },
  "language_info": {
   "codemirror_mode": {
    "name": "ipython",
    "version": 3
   },
   "file_extension": ".py",
   "mimetype": "text/x-python",
   "name": "python",
   "nbconvert_exporter": "python",
   "pygments_lexer": "ipython3",
   "version": "3.12.6"
  }
 },
 "nbformat": 4,
 "nbformat_minor": 2
}
