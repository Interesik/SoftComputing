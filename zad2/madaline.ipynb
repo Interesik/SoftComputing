{
 "cells": [
  {
   "cell_type": "code",
   "metadata": {
    "ExecuteTime": {
     "end_time": "2024-10-15T23:28:28.375767Z",
     "start_time": "2024-10-15T23:28:28.371242Z"
    }
   },
   "source": [
    "from font_generator import *"
   ],
   "outputs": [],
   "execution_count": 5
  },
  {
   "cell_type": "code",
   "metadata": {
    "ExecuteTime": {
     "end_time": "2024-10-13T19:26:56.743241Z",
     "start_time": "2024-10-13T19:26:56.570119Z"
    }
   },
   "source": "generate_font_image(128, 128, 28, 10, 'times.ttf', 'a', 0, 'training_patterns')",
   "outputs": [
    {
     "name": "stdout",
     "output_type": "stream",
     "text": [
      "Generated image for letter 'a' with noise level 0%.\n"
     ]
    }
   ],
   "execution_count": 34
  },
  {
   "metadata": {
    "ExecuteTime": {
     "end_time": "2024-10-13T19:27:01.640997Z",
     "start_time": "2024-10-13T19:27:01.602444Z"
    }
   },
   "cell_type": "code",
   "source": "generate_font_image(128, 128, 28, 10, 'times.ttf', 'b', 0, 'training_patterns')",
   "outputs": [
    {
     "name": "stdout",
     "output_type": "stream",
     "text": [
      "Generated image for letter 'b' with noise level 0%.\n"
     ]
    }
   ],
   "execution_count": 35
  },
  {
   "metadata": {
    "ExecuteTime": {
     "end_time": "2024-10-13T19:27:02.794543Z",
     "start_time": "2024-10-13T19:27:02.752492Z"
    }
   },
   "cell_type": "code",
   "source": "generate_font_image(128, 128, 28, 10, 'times.ttf', 'c', 0, 'training_patterns')",
   "outputs": [
    {
     "name": "stdout",
     "output_type": "stream",
     "text": [
      "Generated image for letter 'c' with noise level 0%.\n"
     ]
    }
   ],
   "execution_count": 36
  },
  {
   "metadata": {
    "ExecuteTime": {
     "end_time": "2024-10-13T19:27:04.756522Z",
     "start_time": "2024-10-13T19:27:04.576865Z"
    }
   },
   "cell_type": "code",
   "source": [
    "generate_font_image(128, 128, 28, 10, 'times.ttf', 'a', 10, 'test_patterns_10')\n",
    "generate_font_image(128, 128, 28, 10, 'times.ttf', 'b', 10, 'test_patterns_10')\n",
    "generate_font_image(128, 128, 28, 10, 'times.ttf', 'c', 10, 'test_patterns_10')\n",
    "\n",
    "generate_font_image(128, 128, 28, 10, 'times.ttf', 'a', 30, 'test_patterns_30')\n",
    "generate_font_image(128, 128, 28, 10, 'times.ttf', 'b', 30, 'test_patterns_30')\n",
    "generate_font_image(128, 128, 28, 10, 'times.ttf', 'c', 30, 'test_patterns_30')\n",
    "\n",
    "generate_font_image(128, 128, 28, 10, 'times.ttf', 'a', 50, 'test_patterns_50')\n",
    "generate_font_image(128, 128, 28, 10, 'times.ttf', 'b', 50, 'test_patterns_50')\n",
    "generate_font_image(128, 128, 28, 10, 'times.ttf', 'c', 50, 'test_patterns_50')\n",
    "\n",
    "generate_font_image(128, 128, 28, 10, 'times.ttf', 'a', 90, 'test_patterns_90')\n",
    "generate_font_image(128, 128, 28, 10, 'times.ttf', 'b', 90, 'test_patterns_90')\n",
    "generate_font_image(128, 128, 28, 10, 'times.ttf', 'c', 90, 'test_patterns_90')"
   ],
   "outputs": [
    {
     "name": "stdout",
     "output_type": "stream",
     "text": [
      "Generated image for letter 'a' with noise level 10%.\n",
      "Generated image for letter 'b' with noise level 10%.\n",
      "Generated image for letter 'c' with noise level 10%.\n",
      "Generated image for letter 'a' with noise level 30%.\n",
      "Generated image for letter 'b' with noise level 30%.\n",
      "Generated image for letter 'c' with noise level 30%.\n",
      "Generated image for letter 'a' with noise level 50%.\n",
      "Generated image for letter 'b' with noise level 50%.\n",
      "Generated image for letter 'c' with noise level 50%.\n",
      "Generated image for letter 'a' with noise level 90%.\n",
      "Generated image for letter 'b' with noise level 90%.\n",
      "Generated image for letter 'c' with noise level 90%.\n"
     ]
    }
   ],
   "execution_count": 37
  },
  {
   "cell_type": "code",
   "metadata": {
    "ExecuteTime": {
     "end_time": "2024-10-21T00:01:10.594021Z",
     "start_time": "2024-10-21T00:01:10.463700Z"
    }
   },
   "source": "from madaline_ocr import *",
   "outputs": [],
   "execution_count": 1
  },
  {
   "cell_type": "code",
   "metadata": {
    "ExecuteTime": {
     "end_time": "2024-10-21T00:01:11.749787Z",
     "start_time": "2024-10-21T00:01:11.702693Z"
    }
   },
   "source": "madaline = MadalineNetwork('training_patterns', 'test_patterns_10')",
   "outputs": [],
   "execution_count": 2
  },
  {
   "metadata": {
    "ExecuteTime": {
     "end_time": "2024-10-21T00:01:22.323677Z",
     "start_time": "2024-10-21T00:01:22.314644Z"
    }
   },
   "cell_type": "code",
   "source": "madaline.test()",
   "outputs": [
    {
     "name": "stdout",
     "output_type": "stream",
     "text": [
      "letter a, noise level 10% –> a, noise level 0% confidence = 0.949\n",
      "letter a, noise level 10% –> b, noise level 0% confidence = 0.935\n",
      "letter a, noise level 10% –> c, noise level 0% confidence = 0.941\n",
      "FINAL RESULT: letter a, noise level 10% –> predicted letter: a with confidence = 0.949\n",
      "\n",
      "letter b, noise level 10% –> a, noise level 0% confidence = 0.936\n",
      "letter b, noise level 10% –> b, noise level 0% confidence = 0.949\n",
      "letter b, noise level 10% –> c, noise level 0% confidence = 0.940\n",
      "FINAL RESULT: letter b, noise level 10% –> predicted letter: b with confidence = 0.949\n",
      "\n",
      "letter c, noise level 10% –> a, noise level 0% confidence = 0.941\n",
      "letter c, noise level 10% –> b, noise level 0% confidence = 0.940\n",
      "letter c, noise level 10% –> c, noise level 0% confidence = 0.949\n",
      "FINAL RESULT: letter c, noise level 10% –> predicted letter: c with confidence = 0.949\n",
      "\n"
     ]
    }
   ],
   "execution_count": 3
  },
  {
   "metadata": {
    "ExecuteTime": {
     "end_time": "2024-10-21T00:01:35.328125Z",
     "start_time": "2024-10-21T00:01:35.305577Z"
    }
   },
   "cell_type": "code",
   "source": "madaline = MadalineNetwork('training_patterns', 'test_patterns_30')",
   "outputs": [],
   "execution_count": 4
  },
  {
   "metadata": {
    "ExecuteTime": {
     "end_time": "2024-10-21T00:01:42.556156Z",
     "start_time": "2024-10-21T00:01:42.547103Z"
    }
   },
   "cell_type": "code",
   "source": "madaline.test()",
   "outputs": [
    {
     "name": "stdout",
     "output_type": "stream",
     "text": [
      "letter a, noise level 30% –> a, noise level 0% confidence = 0.837\n",
      "letter a, noise level 30% –> b, noise level 0% confidence = 0.825\n",
      "letter a, noise level 30% –> c, noise level 0% confidence = 0.831\n",
      "FINAL RESULT: letter a, noise level 30% –> predicted letter: a with confidence = 0.837\n",
      "\n",
      "letter b, noise level 30% –> a, noise level 0% confidence = 0.825\n",
      "letter b, noise level 30% –> b, noise level 0% confidence = 0.837\n",
      "letter b, noise level 30% –> c, noise level 0% confidence = 0.828\n",
      "FINAL RESULT: letter b, noise level 30% –> predicted letter: b with confidence = 0.837\n",
      "\n",
      "letter c, noise level 30% –> a, noise level 0% confidence = 0.830\n",
      "letter c, noise level 30% –> b, noise level 0% confidence = 0.828\n",
      "letter c, noise level 30% –> c, noise level 0% confidence = 0.837\n",
      "FINAL RESULT: letter c, noise level 30% –> predicted letter: c with confidence = 0.837\n",
      "\n"
     ]
    }
   ],
   "execution_count": 5
  },
  {
   "metadata": {
    "ExecuteTime": {
     "end_time": "2024-10-21T00:01:51.643446Z",
     "start_time": "2024-10-21T00:01:51.621981Z"
    }
   },
   "cell_type": "code",
   "source": "madaline = MadalineNetwork('training_patterns', 'test_patterns_50')",
   "outputs": [],
   "execution_count": 6
  },
  {
   "metadata": {
    "ExecuteTime": {
     "end_time": "2024-10-21T00:01:58.097628Z",
     "start_time": "2024-10-21T00:01:58.088969Z"
    }
   },
   "cell_type": "code",
   "source": "madaline.test()",
   "outputs": [
    {
     "name": "stdout",
     "output_type": "stream",
     "text": [
      "letter a, noise level 50% –> a, noise level 0% confidence = 0.706\n",
      "letter a, noise level 50% –> b, noise level 0% confidence = 0.697\n",
      "letter a, noise level 50% –> c, noise level 0% confidence = 0.701\n",
      "FINAL RESULT: letter a, noise level 50% –> predicted letter: a with confidence = 0.706\n",
      "\n",
      "letter b, noise level 50% –> a, noise level 0% confidence = 0.705\n",
      "letter b, noise level 50% –> b, noise level 0% confidence = 0.714\n",
      "letter b, noise level 50% –> c, noise level 0% confidence = 0.708\n",
      "FINAL RESULT: letter b, noise level 50% –> predicted letter: b with confidence = 0.714\n",
      "\n",
      "letter c, noise level 50% –> a, noise level 0% confidence = 0.703\n",
      "letter c, noise level 50% –> b, noise level 0% confidence = 0.702\n",
      "letter c, noise level 50% –> c, noise level 0% confidence = 0.708\n",
      "FINAL RESULT: letter c, noise level 50% –> predicted letter: c with confidence = 0.708\n",
      "\n"
     ]
    }
   ],
   "execution_count": 7
  },
  {
   "metadata": {
    "ExecuteTime": {
     "end_time": "2024-10-21T00:02:10.967710Z",
     "start_time": "2024-10-21T00:02:10.942667Z"
    }
   },
   "cell_type": "code",
   "source": "madaline = MadalineNetwork('training_patterns', 'test_patterns_90')",
   "outputs": [],
   "execution_count": 8
  },
  {
   "metadata": {
    "ExecuteTime": {
     "end_time": "2024-10-21T00:02:18.360214Z",
     "start_time": "2024-10-21T00:02:18.342638Z"
    }
   },
   "cell_type": "code",
   "source": "madaline.test()",
   "outputs": [
    {
     "name": "stdout",
     "output_type": "stream",
     "text": [
      "letter a, noise level 90% –> a, noise level 0% confidence = 0.321\n",
      "letter a, noise level 90% –> b, noise level 0% confidence = 0.315\n",
      "letter a, noise level 90% –> c, noise level 0% confidence = 0.318\n",
      "FINAL RESULT: letter a, noise level 90% –> predicted letter: a with confidence = 0.321\n",
      "\n",
      "letter b, noise level 90% –> a, noise level 0% confidence = 0.319\n",
      "letter b, noise level 90% –> b, noise level 0% confidence = 0.323\n",
      "letter b, noise level 90% –> c, noise level 0% confidence = 0.321\n",
      "FINAL RESULT: letter b, noise level 90% –> predicted letter: b with confidence = 0.323\n",
      "\n",
      "letter c, noise level 90% –> a, noise level 0% confidence = 0.322\n",
      "letter c, noise level 90% –> b, noise level 0% confidence = 0.319\n",
      "letter c, noise level 90% –> c, noise level 0% confidence = 0.324\n",
      "FINAL RESULT: letter c, noise level 90% –> predicted letter: c with confidence = 0.324\n",
      "\n"
     ]
    }
   ],
   "execution_count": 9
  },
  {
   "metadata": {
    "ExecuteTime": {
     "end_time": "2024-10-21T00:02:30.227236Z",
     "start_time": "2024-10-21T00:02:30.210714Z"
    }
   },
   "cell_type": "code",
   "source": "madaline = MadalineNetwork('training_patterns', 'training_patterns')",
   "outputs": [],
   "execution_count": 10
  },
  {
   "metadata": {
    "ExecuteTime": {
     "end_time": "2024-10-21T00:02:38.368714Z",
     "start_time": "2024-10-21T00:02:38.361705Z"
    }
   },
   "cell_type": "code",
   "source": "madaline.test()",
   "outputs": [
    {
     "name": "stdout",
     "output_type": "stream",
     "text": [
      "letter a, noise level 0% –> a, noise level 0% confidence = 1.000\n",
      "letter a, noise level 0% –> b, noise level 0% confidence = 0.986\n",
      "letter a, noise level 0% –> c, noise level 0% confidence = 0.992\n",
      "FINAL RESULT: letter a, noise level 0% –> predicted letter: a with confidence = 1.000\n",
      "\n",
      "letter b, noise level 0% –> a, noise level 0% confidence = 0.986\n",
      "letter b, noise level 0% –> b, noise level 0% confidence = 1.000\n",
      "letter b, noise level 0% –> c, noise level 0% confidence = 0.990\n",
      "FINAL RESULT: letter b, noise level 0% –> predicted letter: b with confidence = 1.000\n",
      "\n",
      "letter c, noise level 0% –> a, noise level 0% confidence = 0.992\n",
      "letter c, noise level 0% –> b, noise level 0% confidence = 0.990\n",
      "letter c, noise level 0% –> c, noise level 0% confidence = 1.000\n",
      "FINAL RESULT: letter c, noise level 0% –> predicted letter: c with confidence = 1.000\n",
      "\n"
     ]
    }
   ],
   "execution_count": 11
  },
  {
   "metadata": {},
   "cell_type": "markdown",
   "source": ""
  }
 ],
 "metadata": {
  "kernelspec": {
   "display_name": "Python 3",
   "language": "python",
   "name": "python3"
  },
  "language_info": {
   "codemirror_mode": {
    "name": "ipython",
    "version": 3
   },
   "file_extension": ".py",
   "mimetype": "text/x-python",
   "name": "python",
   "nbconvert_exporter": "python",
   "pygments_lexer": "ipython3",
   "version": "3.12.0"
  }
 },
 "nbformat": 4,
 "nbformat_minor": 2
}
