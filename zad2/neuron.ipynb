{
 "cells": [
  {
   "cell_type": "markdown",
   "metadata": {},
   "source": [
    "# Zadanie 2 todo"
   ]
  },
  {
   "cell_type": "code",
   "execution_count": 2,
   "metadata": {},
   "outputs": [
    {
     "ename": "ModuleNotFoundError",
     "evalue": "No module named 'neuron'",
     "output_type": "error",
     "traceback": [
      "\u001b[0;31m---------------------------------------------------------------------------\u001b[0m",
      "\u001b[0;31mModuleNotFoundError\u001b[0m                       Traceback (most recent call last)",
      "Cell \u001b[0;32mIn[2], line 2\u001b[0m\n\u001b[1;32m      1\u001b[0m \u001b[38;5;28;01mimport\u001b[39;00m \u001b[38;5;21;01mrandom\u001b[39;00m\n\u001b[0;32m----> 2\u001b[0m \u001b[38;5;28;01mfrom\u001b[39;00m \u001b[38;5;21;01mneuron\u001b[39;00m \u001b[38;5;28;01mimport\u001b[39;00m N\n\u001b[1;32m      4\u001b[0m \u001b[38;5;66;03m# Prepare training set\u001b[39;00m\n\u001b[1;32m      5\u001b[0m training \u001b[38;5;241m=\u001b[39m np\u001b[38;5;241m.\u001b[39marray([np\u001b[38;5;241m.\u001b[39mrandom\u001b[38;5;241m.\u001b[39mrand(N) \u001b[38;5;28;01mfor\u001b[39;00m _ \u001b[38;5;129;01min\u001b[39;00m \u001b[38;5;28mrange\u001b[39m(N\u001b[38;5;241m+\u001b[39m\u001b[38;5;241m2\u001b[39m)])\n",
      "\u001b[0;31mModuleNotFoundError\u001b[0m: No module named 'neuron'"
     ]
    }
   ],
   "source": [
    "import random\n",
    "\n",
    "\n",
    "# Prepare training set\n",
    "training = np.array([np.random.rand(N) for _ in range(N+2)])\n",
    "\n",
    "training_outputs = np.array([random.randint(0, 1) for _ in range(N+2)])\n",
    "\n",
    "smaller_training_outputs = training_outputs[:(N-2)]\n",
    "smaller_training_set = training[:(N-2)]\n",
    "\n",
    "equal_training_outputs = training_outputs[:N]\n",
    "equal_training_set = training[:N]\n",
    "\n",
    "print(training)\n",
    "print(training_outputs)"
   ]
  },
  {
   "cell_type": "code",
   "execution_count": 4,
   "metadata": {},
   "outputs": [],
   "source": [
    "from neuron import Neuron\n",
    "from neuron_trainer import NeuronTrainer"
   ]
  },
  {
   "cell_type": "code",
   "execution_count": 5,
   "metadata": {},
   "outputs": [
    {
     "name": "stdout",
     "output_type": "stream",
     "text": [
      "Strating traning with bigger training set\n",
      "Starting weights :\n",
      "Weights of 0 neuron : [0.96914675 0.0499685  0.86474615 0.99409627 0.11483768]\n",
      "Weights of 1 neuron : [0.49557968 0.62719031 0.15246798 0.17555518 0.7779031 ]\n",
      "Weights of 2 neuron : [0.23571061 0.01582398 0.21216205 0.01567983 0.89879321]\n",
      "Weights of 3 neuron : [0.81884577 0.01446373 0.18021176 0.12355793 0.31808312]\n",
      "Weights of 4 neuron : [0.67939164 0.86838871 0.1232272  0.36399187 0.34633842]\n",
      "Result weights :\n",
      "Weights of 0 neuron : [ 1.58330508 -0.21417015  2.49481975 -3.40977199 -0.24592149]\n",
      "Weights of 1 neuron : [ 1.58252555 -0.21385841  2.49416976 -3.40845342 -0.24580393]\n",
      "Weights of 2 neuron : [ 1.59404271 -0.21846407  2.50377289 -3.42793464 -0.24754067]\n",
      "Weights of 3 neuron : [ 1.61183903 -0.22558073  2.51861166 -3.45803701 -0.25022429]\n",
      "Weights of 4 neuron : [ 1.57502623 -0.21085947  2.48791675 -3.39576836 -0.24467306]\n",
      "result of 1 neuron for traning 0 : 0.8766211559292043, true class 1\n",
      "result of 1 neuron for traning 1 : 0.4972577040684997, true class 1\n",
      "result of 1 neuron for traning 2 : 1.0255666950882485, true class 1\n",
      "result of 1 neuron for traning 3 : 0.9594816800536897, true class 1\n",
      "result of 1 neuron for traning 4 : 0.9595751294923847, true class 1\n",
      "result of 1 neuron for traning 5 : 0.29648819250102, true class 0\n",
      "result of 1 neuron for traning 6 : -0.007181480429142628, true class 0\n"
     ]
    }
   ],
   "source": [
    "# traning with N < M\n",
    "neurons_to_train_with_bigger_set = [Neuron() for _ in range(N)]  \n",
    "print(\"Strating traning with bigger training set\")\n",
    "neuron_trainer_bigger = NeuronTrainer(training_inputs = training, training_outputs = training_outputs, neurons = neurons_to_train_with_bigger_set )\n",
    "print(\"Starting weights :\")\n",
    "neuron_trainer_bigger.show_weights()\n",
    "neuron_trainer_bigger.train_neurons()\n",
    "print(\"Result weights :\")\n",
    "neuron_trainer_bigger.show_weights()\n",
    "neuron_trainer_bigger.show_calculate_results()"
   ]
  },
  {
   "cell_type": "code",
   "execution_count": 6,
   "metadata": {},
   "outputs": [
    {
     "name": "stdout",
     "output_type": "stream",
     "text": [
      "Strating traning with equal training set\n",
      "Starting weights :\n",
      "Weights of 0 neuron : [0.54885096 0.85377932 0.73177578 0.18939477 0.64570642]\n",
      "Weights of 1 neuron : [0.73767122 0.0191903  0.45991806 0.24192314 0.71054168]\n",
      "Weights of 2 neuron : [0.17922543 0.46888099 0.90737981 0.90776441 0.31203603]\n",
      "Weights of 3 neuron : [0.31438718 0.86582336 0.42502388 0.61780729 0.7944056 ]\n",
      "Weights of 4 neuron : [0.18389533 0.43817407 0.06641388 0.87073467 0.27724946]\n",
      "Result weights :\n",
      "Weights of 0 neuron : [ 0.70994497  0.79272026  0.42329244 -0.99669006  0.47497057]\n",
      "Weights of 1 neuron : [ 0.7858604   0.72658317  0.52659262 -1.09026727  0.43052509]\n",
      "Weights of 2 neuron : [ 0.63230752  0.8592298   0.31814311 -0.89782751  0.51924015]\n",
      "Weights of 3 neuron : [ 0.49708437  0.97720468  0.13406716 -0.7316192   0.59858563]\n",
      "Weights of 4 neuron : [ 0.45722238  1.01131732  0.08009525 -0.68075888  0.62127765]\n",
      "result of 1 neuron for traning 0 : 0.934125497448945, true class 1\n",
      "result of 1 neuron for traning 1 : 0.9681599027115979, true class 1\n",
      "result of 1 neuron for traning 2 : 0.9461487857248267, true class 1\n",
      "result of 1 neuron for traning 3 : 0.9197617233147943, true class 1\n",
      "result of 1 neuron for traning 4 : 1.1330274788921983, true class 1\n",
      "result of 1 neuron for traning 5 : 1.0801084049205423, true class 0\n",
      "result of 1 neuron for traning 6 : 1.3818906321770545, true class 0\n"
     ]
    }
   ],
   "source": [
    "# traning with M == N\n",
    "neurons_to_train_with_equal_set = [Neuron() for _ in range(N)]  \n",
    "print(\"Strating traning with equal training set\")\n",
    "neuron_trainer_equal = NeuronTrainer(training_inputs = equal_training_set, training_outputs = equal_training_outputs, neurons = neurons_to_train_with_equal_set )\n",
    "print(\"Starting weights :\")\n",
    "neuron_trainer_equal.show_weights()\n",
    "neuron_trainer_equal.train_neurons()\n",
    "print(\"Result weights :\")\n",
    "neuron_trainer_equal.show_weights()\n",
    "neuron_trainer_equal.show_calculate_results()"
   ]
  },
  {
   "cell_type": "code",
   "execution_count": 7,
   "metadata": {},
   "outputs": [
    {
     "name": "stdout",
     "output_type": "stream",
     "text": [
      "Strating traning with smaller training set\n",
      "Starting weights :\n",
      "Weights of 0 neuron : [0.82493439 0.16760704 0.66050348 0.24622211 0.64551115]\n",
      "Weights of 1 neuron : [0.84565929 0.35732492 0.88269642 0.92246722 0.68298638]\n",
      "Weights of 2 neuron : [0.05281341 0.76825702 0.46532017 0.3385826  0.88769158]\n",
      "Weights of 3 neuron : [0.21599497 0.27404628 0.69977738 0.01170647 0.52198769]\n",
      "Weights of 4 neuron : [0.35997536 0.79422291 0.36348927 0.74244869 0.84129255]\n",
      "Result weights :\n",
      "Weights of 0 neuron : [0.48661595 0.26760842 0.66039619 0.11408683 0.19548199]\n",
      "Weights of 1 neuron : [0.32106743 0.14178411 0.61648743 0.61810891 0.14399894]\n",
      "Weights of 2 neuron : [0.17808589 0.72290992 0.12485756 0.29660817 0.47513529]\n",
      "Weights of 3 neuron : [0.44508011 0.3863188  0.55053501 0.07566505 0.26439353]\n",
      "Weights of 4 neuron : [0.09879189 0.64535821 0.11519506 0.55698738 0.44106439]\n",
      "result of 1 neuron for traning 0 : 1.0000000000000004, true class 1\n",
      "result of 1 neuron for traning 1 : 1.000000000000001, true class 1\n",
      "result of 1 neuron for traning 2 : 0.9999999999999991, true class 1\n",
      "result of 1 neuron for traning 3 : 0.5646634462766034, true class 1\n",
      "result of 1 neuron for traning 4 : 1.0366882514509814, true class 1\n",
      "result of 1 neuron for traning 5 : 1.147224774622455, true class 0\n",
      "result of 1 neuron for traning 6 : 0.8971198830254248, true class 0\n"
     ]
    }
   ],
   "source": [
    "# traning with N > M\n",
    "neurons_to_train_with_smaller_set = [Neuron() for _ in range(N)]  \n",
    "print(\"Strating traning with smaller training set\")\n",
    "neuron_trainer_small = NeuronTrainer(training_inputs = smaller_training_set, training_outputs = smaller_training_outputs, neurons = neurons_to_train_with_smaller_set )\n",
    "print(\"Starting weights :\")\n",
    "neuron_trainer_small.show_weights()\n",
    "neuron_trainer_small.train_neurons()\n",
    "print(\"Result weights :\")\n",
    "neuron_trainer_small.show_weights()\n",
    "neuron_trainer_small.show_calculate_results()"
   ]
  }
 ],
 "metadata": {
  "kernelspec": {
   "display_name": "Python 3",
   "language": "python",
   "name": "python3"
  },
  "language_info": {
   "codemirror_mode": {
    "name": "ipython",
    "version": 3
   },
   "file_extension": ".py",
   "mimetype": "text/x-python",
   "name": "python",
   "nbconvert_exporter": "python",
   "pygments_lexer": "ipython3",
   "version": "3.12.6"
  }
 },
 "nbformat": 4,
 "nbformat_minor": 2
}
